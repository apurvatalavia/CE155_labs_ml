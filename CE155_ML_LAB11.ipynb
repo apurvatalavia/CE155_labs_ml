{
  "nbformat": 4,
  "nbformat_minor": 0,
  "metadata": {
    "colab": {
      "name": "ML_LAB11_SVM_Kernal.ipynb",
      "provenance": [],
      "collapsed_sections": []
    },
    "kernelspec": {
      "name": "python3",
      "display_name": "Python 3"
    },
    "language_info": {
      "name": "python"
    }
  },
  "cells": [
    {
      "cell_type": "code",
      "execution_count": null,
      "metadata": {
        "id": "4dryYXntDPMB"
      },
      "outputs": [],
      "source": [
        "import numpy as np\n",
        "import pandas as pd\n",
        "import matplotlib.pyplot as plt\n",
        "from matplotlib.axes._axes import _log as matplotlib_axes_logger\n",
        "from mpl_toolkits import mplot3d\n",
        "from sklearn.model_selection import train_test_split\n",
        "from sklearn.svm import SVC\n",
        "from matplotlib.colors import ListedColormap"
      ]
    },
    {
      "cell_type": "markdown",
      "source": [
        "# **Kernal on Random Dataset created using Makeblob**"
      ],
      "metadata": {
        "id": "f8mpDxjvKpVJ"
      }
    },
    {
      "cell_type": "code",
      "source": [
        "from sklearn.datasets import make_circles\n",
        "\n",
        "# plt.scatter(X[:, 0], X[:, 1], c=y, s=50, cmap='bwr')\n",
        "X, Y = make_circles(100, factor=.1, noise=.1)\n",
        "plt.scatter(X[:, 0], X[:, -1],c=Y, s=50, cmap='bwr')"
      ],
      "metadata": {
        "colab": {
          "base_uri": "https://localhost:8080/",
          "height": 282
        },
        "id": "0IMUcLWFEKvJ",
        "outputId": "31a48b5e-052c-4a94-f5d0-db977e14aaff"
      },
      "execution_count": null,
      "outputs": [
        {
          "output_type": "execute_result",
          "data": {
            "text/plain": [
              "<matplotlib.collections.PathCollection at 0x7f1ac71e13d0>"
            ]
          },
          "metadata": {},
          "execution_count": 2
        },
        {
          "output_type": "display_data",
          "data": {
            "text/plain": [
              "<Figure size 432x288 with 1 Axes>"
            ],
            "image/png": "[encoded data removed]"
          },
          "metadata": {
            "needs_background": "light"
          }
        }
      ]
    },
    {
      "cell_type": "code",
      "source": [
        "#Test Train Split\n",
        "X_train, X_test, y_train, y_test = train_test_split(X, Y, test_size = 0.20)"
      ],
      "metadata": {
        "id": "oC5-A3R0LQYi"
      },
      "execution_count": null,
      "outputs": []
    },
    {
      "cell_type": "code",
      "source": [
        "# Create a linear SVM classifier and train them\n",
        "classifier = SVC(kernel=\"linear\")\n",
        "classifier.fit(X_train, y_train.ravel())\n",
        "y_pred = classifier.predict(X_test)"
      ],
      "metadata": {
        "id": "H9wVCm0ZNRZJ"
      },
      "execution_count": null,
      "outputs": []
    },
    {
      "cell_type": "code",
      "source": [
        "#find accuracy using linear kernel\n",
        "from sklearn.metrics import accuracy_score\n",
        "accuracy_score(y_test, y_pred)"
      ],
      "metadata": {
        "colab": {
          "base_uri": "https://localhost:8080/"
        },
        "id": "3ARSTDGGNeiO",
        "outputId": "ab9ad3ad-aae0-4c7d-f467-5c54c6f0999c"
      },
      "execution_count": null,
      "outputs": [
        {
          "output_type": "execute_result",
          "data": {
            "text/plain": [
              "0.35"
            ]
          },
          "metadata": {},
          "execution_count": 5
        }
      ]
    },
    {
      "cell_type": "code",
      "source": [
        "#plot decision boundry\n",
        "zero_one_colourmap = ListedColormap(('blue', 'red'))\n",
        "def plot_decision_boundary(X, Y, clf):\n",
        "    X_set, y_set = X, Y\n",
        "    X1, X2 = np.meshgrid(np.arange(start = X_set[:, 0].min() - 1, \n",
        "                                 stop = X_set[:, 0].max() + 1, \n",
        "                                 step = 0.01),\n",
        "                       np.arange(start = X_set[:, 1].min() - 1, \n",
        "                                 stop = X_set[:, 1].max() + 1, \n",
        "                                 step = 0.01))\n",
        "  \n",
        "    plt.contourf(X1, X2, clf.predict(np.array([X1.ravel(), \n",
        "                                             X2.ravel()]).T).reshape(X1.shape),\n",
        "               alpha = 0.75, \n",
        "               cmap = zero_one_colourmap)\n",
        "    plt.xlim(X1.min(), X1.max())\n",
        "    plt.ylim(X2.min(), X2.max())\n",
        "    for i, j in enumerate(np.unique(y_set)):\n",
        "        plt.scatter(X_set[y_set == j, 0], X_set[y_set == j, 1],\n",
        "                c = (zero_one_colourmap)(i), label = j)\n",
        "    plt.title('SVM Decision Boundary')\n",
        "    plt.xlabel('X1')\n",
        "    plt.ylabel('X2')\n",
        "    plt.legend()\n",
        "    return plt.show()"
      ],
      "metadata": {
        "id": "zZbVQEtTOJWX"
      },
      "execution_count": null,
      "outputs": []
    },
    {
      "cell_type": "code",
      "source": [
        "plot_decision_boundary(X, Y, classifier)"
      ],
      "metadata": {
        "colab": {
          "base_uri": "https://localhost:8080/",
          "height": 349
        },
        "id": "miW1pDvYOSuf",
        "outputId": "da77bba7-ee98-4087-e9b2-10e40580ef08"
      },
      "execution_count": null,
      "outputs": [
        {
          "output_type": "stream",
          "name": "stderr",
          "text": [
            "*c* argument looks like a single numeric RGB or RGBA sequence, which should be avoided as value-mapping will have precedence in case its length matches with *x* & *y*.  Please use the *color* keyword-argument or provide a 2-D array with a single row if you intend to specify the same RGB or RGBA value for all points.\n",
            "*c* argument looks like a single numeric RGB or RGBA sequence, which should be avoided as value-mapping will have precedence in case its length matches with *x* & *y*.  Please use the *color* keyword-argument or provide a 2-D array with a single row if you intend to specify the same RGB or RGBA value for all points.\n"
          ]
        },
        {
          "output_type": "display_data",
          "data": {
            "text/plain": [
              "<Figure size 432x288 with 1 Axes>"
            ],
            "image/png": "[encoded data removed]"
          },
          "metadata": {
            "needs_background": "light"
          }
        }
      ]
    },
    {
      "cell_type": "code",
      "source": [
        "# Using rbf kernel function\n",
        "rbf_classifier = SVC(kernel=\"rbf\")\n",
        "rbf_classifier.fit(X_train, y_train)\n",
        "y_pred = rbf_classifier.predict(X_test)"
      ],
      "metadata": {
        "id": "drGX8MTbOW2H"
      },
      "execution_count": null,
      "outputs": []
    },
    {
      "cell_type": "code",
      "source": [
        "#Accuracy of RBF kernel function\n",
        "from sklearn.metrics import accuracy_score\n",
        "accuracy_score(y_test, y_pred)"
      ],
      "metadata": {
        "colab": {
          "base_uri": "https://localhost:8080/"
        },
        "id": "mH8t0gOdOmMe",
        "outputId": "5fca08ef-b545-4a4d-adad-9fa3a0eb54d8"
      },
      "execution_count": null,
      "outputs": [
        {
          "output_type": "execute_result",
          "data": {
            "text/plain": [
              "1.0"
            ]
          },
          "metadata": {},
          "execution_count": 40
        }
      ]
    },
    {
      "cell_type": "markdown",
      "source": [
        "# **Part B : Breast Cancer Prediction Example**"
      ],
      "metadata": {
        "id": "Mo23fRk9PFjC"
      }
    },
    {
      "cell_type": "code",
      "source": [
        "from sklearn.datasets import load_breast_cancer"
      ],
      "metadata": {
        "id": "vpThgLRtO-hg"
      },
      "execution_count": null,
      "outputs": []
    },
    {
      "cell_type": "code",
      "source": [
        "data_X,data_Y = load_breast_cancer(return_X_y=True)\n"
      ],
      "metadata": {
        "id": "apV_2Ui4PwYk"
      },
      "execution_count": null,
      "outputs": []
    },
    {
      "cell_type": "code",
      "source": [
        "data_X.shape"
      ],
      "metadata": {
        "colab": {
          "base_uri": "https://localhost:8080/"
        },
        "id": "78stI5v7P2Ii",
        "outputId": "e37fad7c-3c7e-46a6-d2b0-e543cda80c08"
      },
      "execution_count": null,
      "outputs": [
        {
          "output_type": "execute_result",
          "data": {
            "text/plain": [
              "(569, 30)"
            ]
          },
          "metadata": {},
          "execution_count": 90
        }
      ]
    },
    {
      "cell_type": "code",
      "source": [
        "plt.scatter(data_X[:, 1], data_X[:, 11],c=data_Y, s=50, cmap='bwr')"
      ],
      "metadata": {
        "colab": {
          "base_uri": "https://localhost:8080/",
          "height": 282
        },
        "id": "U8-L_kbyQNIp",
        "outputId": "abbe818f-4093-4a9a-8dca-7862205902a9"
      },
      "execution_count": null,
      "outputs": [
        {
          "output_type": "execute_result",
          "data": {
            "text/plain": [
              "<matplotlib.collections.PathCollection at 0x7f857c3b1410>"
            ]
          },
          "metadata": {},
          "execution_count": 75
        },
        {
          "output_type": "display_data",
          "data": {
            "text/plain": [
              "<Figure size 432x288 with 1 Axes>"
            ],
            "image/png": "[encoded data removed]"
          },
          "metadata": {
            "needs_background": "light"
          }
        }
      ]
    },
    {
      "cell_type": "code",
      "source": [
        "#Test Train Split\n",
        "X_train, X_test, y_train, y_test = train_test_split(data_X, data_Y, test_size = 0.20)"
      ],
      "metadata": {
        "id": "kKGLCoV-Rhft"
      },
      "execution_count": null,
      "outputs": []
    },
    {
      "cell_type": "markdown",
      "source": [
        "**RBF Kernal**"
      ],
      "metadata": {
        "id": "bAZabBSBU-uE"
      }
    },
    {
      "cell_type": "code",
      "source": [
        "# Create a rbf SVM classifier and train them\n",
        "classifier = SVC(kernel=\"rbf\")\n",
        "classifier.fit(X_train, y_train.ravel())\n",
        "y_pred = classifier.predict(X_test)"
      ],
      "metadata": {
        "id": "hwDy9GLhSTe9"
      },
      "execution_count": null,
      "outputs": []
    },
    {
      "cell_type": "code",
      "source": [
        "#find accuracy using rbf kernel\n",
        "from sklearn.metrics import accuracy_score\n",
        "accuracy_score(y_test, y_pred)"
      ],
      "metadata": {
        "colab": {
          "base_uri": "https://localhost:8080/"
        },
        "id": "oLDVljZfSbX9",
        "outputId": "55586fe3-e6fe-416b-c74c-d8ad3136ac0b"
      },
      "execution_count": null,
      "outputs": [
        {
          "output_type": "execute_result",
          "data": {
            "text/plain": [
              "0.9210526315789473"
            ]
          },
          "metadata": {},
          "execution_count": 78
        }
      ]
    },
    {
      "cell_type": "markdown",
      "source": [
        "**Linear Kernal**"
      ],
      "metadata": {
        "id": "K1NypliUU1c8"
      }
    },
    {
      "cell_type": "code",
      "source": [
        "# Create a linear SVM classifier and train them\n",
        "classifier = SVC(kernel=\"linear\")\n",
        "classifier.fit(X_train, y_train.ravel())\n",
        "y_pred = classifier.predict(X_test)"
      ],
      "metadata": {
        "id": "7t04chuIWdCl"
      },
      "execution_count": null,
      "outputs": []
    },
    {
      "cell_type": "code",
      "source": [
        "#find accuracy using rbf kernel\n",
        "from sklearn.metrics import accuracy_score\n",
        "accuracy_score(y_test, y_pred)"
      ],
      "metadata": {
        "colab": {
          "base_uri": "https://localhost:8080/"
        },
        "id": "_bwE198FWkWj",
        "outputId": "ecb303dd-b6d8-49bb-8cb0-b22e543736ad"
      },
      "execution_count": null,
      "outputs": [
        {
          "output_type": "execute_result",
          "data": {
            "text/plain": [
              "0.9649122807017544"
            ]
          },
          "metadata": {},
          "execution_count": 92
        }
      ]
    },
    {
      "cell_type": "markdown",
      "source": [
        "**Polynomial Kernal**"
      ],
      "metadata": {
        "id": "_6haJ5mqVmN0"
      }
    },
    {
      "cell_type": "code",
      "source": [
        "# Create a polynomial SVM classifier and train them\n",
        "classifier = SVC(kernel=\"poly\", degree=3)\n",
        "classifier.fit(X_train, y_train.ravel())\n",
        "y_pred = classifier.predict(X_test)"
      ],
      "metadata": {
        "id": "drzisYd7VrPJ"
      },
      "execution_count": null,
      "outputs": []
    },
    {
      "cell_type": "code",
      "source": [
        "#find accuracy using rbf kernel\n",
        "from sklearn.metrics import accuracy_score\n",
        "accuracy_score(y_test, y_pred)"
      ],
      "metadata": {
        "colab": {
          "base_uri": "https://localhost:8080/"
        },
        "id": "Y0pMfTIlWF2O",
        "outputId": "d578caef-105e-436b-ceda-f6bb1cfcf01e"
      },
      "execution_count": null,
      "outputs": [
        {
          "output_type": "execute_result",
          "data": {
            "text/plain": [
              "0.9298245614035088"
            ]
          },
          "metadata": {},
          "execution_count": 21
        }
      ]
    },
    {
      "cell_type": "code",
      "source": [
        "#plot decision boundry\n",
        "# zero_one_colourmap = ListedColormap(('blue', 'red'))\n",
        "# def plot_decision_boundary(data_X, data_Y, clf):\n",
        "#     X_set, y_set = data_X, data_Y\n",
        "#     X1, X2 = np.meshgrid(np.arange(start = X_set[:, 0].min() - 1, \n",
        "#                                  stop = X_set[:, 0].max() + 1, \n",
        "#                                  step = 0.01),\n",
        "#                        np.arange(start = X_set[:, 1].min() - 1, \n",
        "#                                  stop = X_set[:, 1].max() + 1, \n",
        "#                                  step = 0.01))\n",
        "  \n",
        "#     plt.contourf(X1, X2, clf.predict(np.array([X1.ravel(), \n",
        "#                                              X2.ravel()]).T).reshape(X1.shape),\n",
        "#                alpha = 0.75, \n",
        "#                cmap = zero_one_colourmap)\n",
        "#     plt.xlim(X1.min(), X1.max())\n",
        "#     plt.ylim(X2.min(), X2.max())\n",
        "#     for i, j in enumerate(np.unique(y_set)):\n",
        "#         plt.scatter(X_set[y_set == j, 0], X_set[y_set == j, 1],\n",
        "#                 c = (zero_one_colourmap)(i), label = j)\n",
        "#     plt.title('SVM Decision Boundary')\n",
        "#     plt.xlabel('X1')\n",
        "#     plt.ylabel('X2')\n",
        "#     plt.legend()\n",
        "#     return plt.show()"
      ],
      "metadata": {
        "id": "aiM37j2TSnV9"
      },
      "execution_count": null,
      "outputs": []
    },
    {
      "cell_type": "code",
      "source": [
        "# plot_decision_boundary(data_X, data_Y, classifier)\n",
        "# data_X.shape"
      ],
      "metadata": {
        "id": "MYz5giQ3SvgQ"
      },
      "execution_count": null,
      "outputs": []
    },
    {
      "cell_type": "code",
      "source": [
        ""
      ],
      "metadata": {
        "id": "KpbEIqLdTYpv"
      },
      "execution_count": null,
      "outputs": []
    },
    {
      "cell_type": "code",
      "source": [
        ""
      ],
      "metadata": {
        "id": "OAL8GQ8mS09f"
      },
      "execution_count": null,
      "outputs": []
    },
    {
      "cell_type": "markdown",
      "source": [
        "# **SVM on MNIST DARASET**"
      ],
      "metadata": {
        "id": "htJXdDFBZ477"
      }
    },
    {
      "cell_type": "code",
      "source": [
        "#Load Dataset\n",
        "from tensorflow.keras.datasets import mnist\n",
        "(features_train, targets_train), (features_test, targets_test) = mnist.load_data()"
      ],
      "metadata": {
        "colab": {
          "base_uri": "https://localhost:8080/"
        },
        "id": "Rlo6gUfwaaTt",
        "outputId": "0a67a6fc-f79e-4b31-c7fc-7733ca45e14f"
      },
      "execution_count": null,
      "outputs": [
        {
          "output_type": "stream",
          "name": "stdout",
          "text": [
            "Downloading data from https://storage.googleapis.com/tensorflow/tf-keras-datasets/mnist.npz\n",
            "11493376/11490434 [==============================] - 0s 0us/step\n",
            "11501568/11490434 [==============================] - 0s 0us/step\n"
          ]
        }
      ]
    },
    {
      "cell_type": "code",
      "source": [
        "#Scaling features between 0 and 1\n",
        "features_train=features_train/255;\n",
        "features_test=features_test/255"
      ],
      "metadata": {
        "id": "8tyUgMdYab6E"
      },
      "execution_count": null,
      "outputs": []
    },
    {
      "cell_type": "code",
      "source": [
        "features_train.shape"
      ],
      "metadata": {
        "colab": {
          "base_uri": "https://localhost:8080/"
        },
        "id": "nTARI47Raww_",
        "outputId": "fb07c2a3-a731-4a22-9992-19c0ac0af662"
      },
      "execution_count": null,
      "outputs": [
        {
          "output_type": "execute_result",
          "data": {
            "text/plain": [
              "(60000, 28, 28)"
            ]
          },
          "metadata": {},
          "execution_count": 96
        }
      ]
    },
    {
      "cell_type": "code",
      "source": [
        "#Reshape features shape (28x28 matrix into 1 dimentional array)\n",
        "features_train_flattened = features_train.reshape(len(features_train), 28*28)\n",
        "features_test_flattened = features_test.reshape(len(features_test), 28*28)\n",
        "features_train_flattened.shape"
      ],
      "metadata": {
        "colab": {
          "base_uri": "https://localhost:8080/"
        },
        "id": "842uOuLObku2",
        "outputId": "f20f86eb-f089-412f-9823-867ce128922b"
      },
      "execution_count": null,
      "outputs": [
        {
          "output_type": "execute_result",
          "data": {
            "text/plain": [
              "(60000, 784)"
            ]
          },
          "metadata": {},
          "execution_count": 97
        }
      ]
    },
    {
      "cell_type": "markdown",
      "source": [
        "**Linear** **Kernal**"
      ],
      "metadata": {
        "id": "c6ZGxHCbUbef"
      }
    },
    {
      "cell_type": "code",
      "source": [
        "# Create a linear SVM classifier and train them\n",
        "classifier = SVC(kernel=\"linear\")\n",
        "classifier.fit(features_train_flattened, targets_train.ravel())\n",
        "y_pred = classifier.predict(features_test_flattened)"
      ],
      "metadata": {
        "id": "I2u7Ndlebmpv"
      },
      "execution_count": null,
      "outputs": []
    },
    {
      "cell_type": "code",
      "source": [
        "#find accuracy using linear kernel\n",
        "from sklearn.metrics import accuracy_score\n",
        "accuracy_score(targets_test, y_pred)"
      ],
      "metadata": {
        "colab": {
          "base_uri": "https://localhost:8080/"
        },
        "id": "ilXIk8VmcKZo",
        "outputId": "adc4adbf-e004-4161-a7bf-9a1fc2962f35"
      },
      "execution_count": null,
      "outputs": [
        {
          "output_type": "execute_result",
          "data": {
            "text/plain": [
              "0.9404"
            ]
          },
          "metadata": {},
          "execution_count": 99
        }
      ]
    },
    {
      "cell_type": "markdown",
      "source": [
        "**RBF Kernal**"
      ],
      "metadata": {
        "id": "wTjCnUHbUmTG"
      }
    },
    {
      "cell_type": "code",
      "source": [
        "# Create a rbf SVM classifier and train them\n",
        "classifier = SVC(kernel=\"rbf\")\n",
        "classifier.fit(features_train_flattened, targets_train.ravel())\n",
        "y_pred = classifier.predict(features_test_flattened)"
      ],
      "metadata": {
        "id": "RNMhS8VhdgUD"
      },
      "execution_count": null,
      "outputs": []
    },
    {
      "cell_type": "code",
      "source": [
        "#find accuracy using rbf kernel\n",
        "from sklearn.metrics import accuracy_score\n",
        "accuracy_score(targets_test, y_pred)"
      ],
      "metadata": {
        "colab": {
          "base_uri": "https://localhost:8080/"
        },
        "id": "PyZ_37o-d95q",
        "outputId": "b1b21a8b-c035-41c5-d67d-1e019e041a9a"
      },
      "execution_count": null,
      "outputs": [
        {
          "output_type": "execute_result",
          "data": {
            "text/plain": [
              "0.9792"
            ]
          },
          "metadata": {},
          "execution_count": 101
        }
      ]
    }
  ]
}